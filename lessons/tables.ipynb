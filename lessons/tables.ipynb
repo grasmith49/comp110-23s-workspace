{
 "cells": [
  {
   "attachments": {},
   "cell_type": "markdown",
   "metadata": {},
   "source": [
    "# Demonstrate More Functionality with Data in Jupyter Notebooks"
   ]
  },
  {
   "attachments": {},
   "cell_type": "markdown",
   "metadata": {},
   "source": [
    "## Import some of tthe old data from last lesson"
   ]
  },
  {
   "cell_type": "code",
   "execution_count": 7,
   "metadata": {},
   "outputs": [
    {
     "data": {
      "text/plain": [
       "[{'Day': 'Monday', 'Low': '56', 'High': '75'},\n",
       " {'Day': 'Tuesday', 'Low': '53', 'High': '72'},\n",
       " {'Day': 'Wednesday', 'Low': '50', 'High': '72'}]"
      ]
     },
     "execution_count": 7,
     "metadata": {},
     "output_type": "execute_result"
    }
   ],
   "source": [
    "from data_utils import read_csv_rows\n",
    "\n",
    "filename: str = \"../data/weather.csv\"\n",
    "data: list[dict[str,str]] = read_csv_rows(filename)\n",
    "data"
   ]
  },
  {
   "attachments": {},
   "cell_type": "markdown",
   "metadata": {},
   "source": [
    "## Data in Column-Oriented Format"
   ]
  },
  {
   "cell_type": "code",
   "execution_count": 13,
   "metadata": {},
   "outputs": [
    {
     "ename": "TypeError",
     "evalue": "list indices must be integers or slices, not str",
     "output_type": "error",
     "traceback": [
      "\u001b[0;31m---------------------------------------------------------------------------\u001b[0m",
      "\u001b[0;31mTypeError\u001b[0m                                 Traceback (most recent call last)",
      "Cell \u001b[0;32mIn[13], line 3\u001b[0m\n\u001b[1;32m      1\u001b[0m \u001b[39mfrom\u001b[39;00m \u001b[39mdata_utils\u001b[39;00m \u001b[39mimport\u001b[39;00m columnar\n\u001b[0;32m----> 3\u001b[0m column_data: \u001b[39mdict\u001b[39m[\u001b[39mstr\u001b[39m,\u001b[39mlist\u001b[39m[\u001b[39mstr\u001b[39m]] \u001b[39m=\u001b[39m columnar(data)\n\u001b[1;32m      4\u001b[0m column_data\n",
      "File \u001b[0;32m~/Desktop/comp110-23s-workspace/lessons/data_utils.py:29\u001b[0m, in \u001b[0;36mcolumnar\u001b[0;34m(table)\u001b[0m\n\u001b[1;32m     26\u001b[0m first_row: \u001b[39mdict\u001b[39m[\u001b[39mstr\u001b[39m,\u001b[39mstr\u001b[39m] \u001b[39m=\u001b[39m table[\u001b[39m0\u001b[39m]\n\u001b[1;32m     27\u001b[0m \u001b[39mfor\u001b[39;00m key \u001b[39min\u001b[39;00m first_row:\n\u001b[1;32m     28\u001b[0m     \u001b[39m# for each key, make a dictionary with all column values\u001b[39;00m\n\u001b[0;32m---> 29\u001b[0m     result[key] \u001b[39m=\u001b[39m column_vals(table, key)\n\u001b[1;32m     30\u001b[0m \u001b[39mreturn\u001b[39;00m result\n",
      "\u001b[0;31mTypeError\u001b[0m: list indices must be integers or slices, not str"
     ]
    }
   ],
   "source": [
    "from data_utils import columnar\n",
    "\n",
    "column_data: dict[str,list[str]] = columnar(data)\n",
    "column_data"
   ]
  },
  {
   "attachments": {},
   "cell_type": "markdown",
   "metadata": {},
   "source": [
    "## Printing Data as Table"
   ]
  },
  {
   "cell_type": "code",
   "execution_count": 14,
   "metadata": {},
   "outputs": [
    {
     "ename": "NameError",
     "evalue": "name 'column_data' is not defined",
     "output_type": "error",
     "traceback": [
      "\u001b[0;31m---------------------------------------------------------------------------\u001b[0m",
      "\u001b[0;31mNameError\u001b[0m                                 Traceback (most recent call last)",
      "Cell \u001b[0;32mIn[14], line 3\u001b[0m\n\u001b[1;32m      1\u001b[0m \u001b[39mfrom\u001b[39;00m \u001b[39mtabulate\u001b[39;00m \u001b[39mimport\u001b[39;00m tabulate\n\u001b[0;32m----> 3\u001b[0m tabulate(column_data, column_data\u001b[39m.\u001b[39mkeys(), \u001b[39m\"\u001b[39m\u001b[39mhtml\u001b[39m\u001b[39m\"\u001b[39m)\n",
      "\u001b[0;31mNameError\u001b[0m: name 'column_data' is not defined"
     ]
    }
   ],
   "source": [
    "from tabulate import tabulate\n",
    "\n",
    "tabulate(column_data, column_data.keys(), \"html\")"
   ]
  },
  {
   "attachments": {},
   "cell_type": "markdown",
   "metadata": {},
   "source": [
    "## Get table of just Monday and Tuesday Data"
   ]
  },
  {
   "cell_type": "code",
   "execution_count": 9,
   "metadata": {},
   "outputs": [
    {
     "ename": "NameError",
     "evalue": "name 'column_data' is not defined",
     "output_type": "error",
     "traceback": [
      "\u001b[0;31m---------------------------------------------------------------------------\u001b[0m",
      "\u001b[0;31mNameError\u001b[0m                                 Traceback (most recent call last)",
      "Cell \u001b[0;32mIn[9], line 3\u001b[0m\n\u001b[1;32m      1\u001b[0m smaller_data_set: \u001b[39mdict\u001b[39m[\u001b[39mstr\u001b[39m, \u001b[39mlist\u001b[39m[\u001b[39mstr\u001b[39m]] \u001b[39m=\u001b[39m {}\n\u001b[0;32m----> 3\u001b[0m \u001b[39mfor\u001b[39;00m key \u001b[39min\u001b[39;00m column_data:\n\u001b[1;32m      4\u001b[0m     \u001b[39m# make an entry with \"key\" as the key and the first two elem of list as values.\u001b[39;00m\n\u001b[1;32m      5\u001b[0m     sub_list: \u001b[39mlist\u001b[39m[\u001b[39mstr\u001b[39m] \u001b[39m=\u001b[39m []\n\u001b[1;32m      6\u001b[0m     data_to_get: \u001b[39mlist\u001b[39m[\u001b[39mstr\u001b[39m] \u001b[39m=\u001b[39m column_data[key]\n",
      "\u001b[0;31mNameError\u001b[0m: name 'column_data' is not defined"
     ]
    }
   ],
   "source": [
    "smaller_data_set: dict[str, list[str]] = {}\n",
    "\n",
    "for key in column_data:\n",
    "    # make an entry with \"key\" as the key and the first two elem of list as values.\n",
    "    sub_list: list[str] = []\n",
    "    data_to_get: list[str] = column_data[key]\n",
    "    idx: int = 0\n",
    "    while idx < 2:\n",
    "        sub_list.append(data_to_get[idx])\n",
    "        idx += 1\n",
    "    smaller_data_set[key] = sub_list\n",
    "tabulate(smaller_data_set, smaller_data_set.keys(), \"html\")\n"
   ]
  },
  {
   "attachments": {},
   "cell_type": "markdown",
   "metadata": {},
   "source": [
    "## Get Just Monday and Tuesday, but with original data"
   ]
  },
  {
   "cell_type": "code",
   "execution_count": 12,
   "metadata": {},
   "outputs": [
    {
     "ename": "TypeError",
     "evalue": "list indices must be integers or slices, not str",
     "output_type": "error",
     "traceback": [
      "\u001b[0;31m---------------------------------------------------------------------------\u001b[0m",
      "\u001b[0;31mTypeError\u001b[0m                                 Traceback (most recent call last)",
      "Cell \u001b[0;32mIn[12], line 8\u001b[0m\n\u001b[1;32m      5\u001b[0m     idx \u001b[39m+\u001b[39m\u001b[39m=\u001b[39m \u001b[39m1\u001b[39m\n\u001b[1;32m      6\u001b[0m smaller_data_set_row_oriented\n\u001b[0;32m----> 8\u001b[0m smaller_data_set_2 \u001b[39m=\u001b[39m columnar(smaller_data_set_row_oriented)\n\u001b[1;32m      9\u001b[0m tabulate(smaller_data_set_2, smaller_data_set_2\u001b[39m.\u001b[39mkeys(), \u001b[39m\"\u001b[39m\u001b[39mhtml\u001b[39m\u001b[39m\"\u001b[39m)\n",
      "File \u001b[0;32m~/Desktop/comp110-23s-workspace/lessons/data_utils.py:29\u001b[0m, in \u001b[0;36mcolumnar\u001b[0;34m(table)\u001b[0m\n\u001b[1;32m     26\u001b[0m first_row: \u001b[39mdict\u001b[39m[\u001b[39mstr\u001b[39m,\u001b[39mstr\u001b[39m] \u001b[39m=\u001b[39m table[\u001b[39m0\u001b[39m]\n\u001b[1;32m     27\u001b[0m \u001b[39mfor\u001b[39;00m key \u001b[39min\u001b[39;00m first_row:\n\u001b[1;32m     28\u001b[0m     \u001b[39m# for each key, make a dictionary with all column values\u001b[39;00m\n\u001b[0;32m---> 29\u001b[0m     result[key] \u001b[39m=\u001b[39m column_vals(table, key)\n\u001b[1;32m     30\u001b[0m \u001b[39mreturn\u001b[39;00m result\n",
      "\u001b[0;31mTypeError\u001b[0m: list indices must be integers or slices, not str"
     ]
    }
   ],
   "source": [
    "idx: int =0\n",
    "smaller_data_set_row_oriented = []\n",
    "while idx < 2:\n",
    "    smaller_data_set_row_oriented.append(data[idx])\n",
    "    idx += 1\n",
    "smaller_data_set_row_oriented\n",
    "\n",
    "smaller_data_set_2 = columnar(smaller_data_set_row_oriented)\n",
    "tabulate(smaller_data_set_2, smaller_data_set_2.keys(), \"html\")"
   ]
  }
 ],
 "metadata": {
  "kernelspec": {
   "display_name": "Python 3",
   "language": "python",
   "name": "python3"
  },
  "language_info": {
   "codemirror_mode": {
    "name": "ipython",
    "version": 3
   },
   "file_extension": ".py",
   "mimetype": "text/x-python",
   "name": "python",
   "nbconvert_exporter": "python",
   "pygments_lexer": "ipython3",
   "version": "3.11.1"
  },
  "orig_nbformat": 4
 },
 "nbformat": 4,
 "nbformat_minor": 2
}
