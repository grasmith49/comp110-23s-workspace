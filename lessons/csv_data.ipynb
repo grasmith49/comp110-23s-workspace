{
 "cells": [
  {
   "attachments": {},
   "cell_type": "markdown",
   "metadata": {},
   "source": [
    "## Working with CSV Files\n",
    "\n",
    "First, enable the reload of any modules that we will be importing. This means that when we import our modules, it'll be sure to import the most recent version."
   ]
  },
  {
   "cell_type": "code",
   "execution_count": 1,
   "metadata": {},
   "outputs": [
    {
     "name": "stdout",
     "output_type": "stream",
     "text": [
      "Autoreloading of imported modules enabled.\n"
     ]
    }
   ],
   "source": [
    "%reload_ext autoreload\n",
    "%autoreload\n",
    "print(\"Autoreloading of imported modules enabled.\")"
   ]
  },
  {
   "attachments": {},
   "cell_type": "markdown",
   "metadata": {},
   "source": [
    "## Reading a csv file "
   ]
  },
  {
   "cell_type": "code",
   "execution_count": 2,
   "metadata": {},
   "outputs": [
    {
     "data": {
      "text/plain": [
       "[{'Day': 'Monday', 'Low': '56', 'High': '75'},\n",
       " {'Day': 'Tuesday', 'Low': '53', 'High': '72'},\n",
       " {'Day': 'Wednesday', 'Low': '50', 'High': '72'}]"
      ]
     },
     "execution_count": 2,
     "metadata": {},
     "output_type": "execute_result"
    }
   ],
   "source": [
    "from data_utils import read_csv_rows\n",
    "\n",
    "filename: str = \"../data/weather.csv\"\n",
    "read_csv_rows(filename)\n",
    "data: list[dict[str,str]] = read_csv_rows(filename)\n",
    "data"
   ]
  },
  {
   "attachments": {},
   "cell_type": "markdown",
   "metadata": {},
   "source": [
    "## Getting data from one column"
   ]
  },
  {
   "cell_type": "code",
   "execution_count": 3,
   "metadata": {},
   "outputs": [
    {
     "data": {
      "text/plain": [
       "['75', '72', '72']"
      ]
     },
     "execution_count": 3,
     "metadata": {},
     "output_type": "execute_result"
    }
   ],
   "source": [
    "from data_utils import column_vals\n",
    "column_vals(data, \"High\")"
   ]
  },
  {
   "attachments": {},
   "cell_type": "markdown",
   "metadata": {},
   "source": [
    "## Reformat Table"
   ]
  },
  {
   "cell_type": "code",
   "execution_count": 4,
   "metadata": {},
   "outputs": [
    {
     "ename": "TypeError",
     "evalue": "list indices must be integers or slices, not str",
     "output_type": "error",
     "traceback": [
      "\u001b[0;31m---------------------------------------------------------------------------\u001b[0m",
      "\u001b[0;31mTypeError\u001b[0m                                 Traceback (most recent call last)",
      "Cell \u001b[0;32mIn[4], line 2\u001b[0m\n\u001b[1;32m      1\u001b[0m \u001b[39mfrom\u001b[39;00m \u001b[39mdata_utils\u001b[39;00m \u001b[39mimport\u001b[39;00m columnar\n\u001b[0;32m----> 2\u001b[0m columnar(data)\n",
      "File \u001b[0;32m~/Desktop/comp110-23s-workspace/lessons/data_utils.py:29\u001b[0m, in \u001b[0;36mcolumnar\u001b[0;34m(table)\u001b[0m\n\u001b[1;32m     26\u001b[0m first_row: \u001b[39mdict\u001b[39m[\u001b[39mstr\u001b[39m,\u001b[39mstr\u001b[39m] \u001b[39m=\u001b[39m table[\u001b[39m0\u001b[39m]\n\u001b[1;32m     27\u001b[0m \u001b[39mfor\u001b[39;00m key \u001b[39min\u001b[39;00m first_row:\n\u001b[1;32m     28\u001b[0m     \u001b[39m# for each key, make a dictionary with all column values\u001b[39;00m\n\u001b[0;32m---> 29\u001b[0m     result[key] \u001b[39m=\u001b[39m column_vals(table, key)\n\u001b[1;32m     30\u001b[0m \u001b[39mreturn\u001b[39;00m result\n",
      "\u001b[0;31mTypeError\u001b[0m: list indices must be integers or slices, not str"
     ]
    }
   ],
   "source": [
    "from data_utils import columnar\n",
    "columnar(data)"
   ]
  }
 ],
 "metadata": {
  "kernelspec": {
   "display_name": "Python 3",
   "language": "python",
   "name": "python3"
  },
  "language_info": {
   "codemirror_mode": {
    "name": "ipython",
    "version": 3
   },
   "file_extension": ".py",
   "mimetype": "text/x-python",
   "name": "python",
   "nbconvert_exporter": "python",
   "pygments_lexer": "ipython3",
   "version": "3.11.1"
  },
  "orig_nbformat": 4,
  "vscode": {
   "interpreter": {
    "hash": "aee8b7b246df8f9039afb4144a1f6fd8d2ca17a180786b69acc140d282b71a49"
   }
  }
 },
 "nbformat": 4,
 "nbformat_minor": 2
}
